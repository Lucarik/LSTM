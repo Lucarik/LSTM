{
 "cells": [
  {
   "cell_type": "code",
   "execution_count": 1,
   "id": "c75475ea-3209-44a7-a566-3afd988ac35c",
   "metadata": {},
   "outputs": [],
   "source": [
    "import numpy as np\n",
    "import pandas as pd\n",
    "import matplotlib.pyplot as plt\n",
    "import random"
   ]
  },
  {
   "cell_type": "code",
   "execution_count": 125,
   "id": "2a434fd2",
   "metadata": {
    "tags": []
   },
   "outputs": [],
   "source": [
    "class RNN:\n",
    "    # Weights\n",
    "    W = []\n",
    "    # Layers\n",
    "    M = []\n",
    "    # Bias\n",
    "    b = []\n",
    "    # Activation function for each layer\n",
    "    A = []\n",
    "    # Dropout\n",
    "    Dp = []\n",
    "    Yhat = []\n",
    "    costs = []\n",
    "    lossType = 'mse'\n",
    "    optimizer = 'none'\n",
    "    \n",
    "    def __init__(self):\n",
    "        self.reset()\n",
    "    \n",
    "    def __sigmoid(self, Z):\n",
    "        return 1 / (1 + np.exp(-Z))\n",
    "    \n",
    "    def __tanh(self, Z):\n",
    "        return np.tanh(Z)\n",
    "    \n",
    "    def __relu(self,Z):\n",
    "        return Z * (Z > 0)\n",
    "    \n",
    "    # Calls specified activation function\n",
    "    def __actf(self,Z,ty):\n",
    "        if ty == 'sigmoid':\n",
    "            return self.__sigmoid(Z)\n",
    "        elif ty == 'tanh':\n",
    "            return self.__tanh(Z)\n",
    "        elif ty == 'softmax':\n",
    "            return self.__softmax(Z)\n",
    "        elif ty == 'none':\n",
    "            return Z\n",
    "        else:# ty == 'relu':\n",
    "            return self.__relu(Z)\n",
    "        \n",
    "        # Calls specified activation function derivative\n",
    "    def __actf_dv(self,Z,ty):\n",
    "        if ty == 'sigmoid':\n",
    "            return Z*(1-Z)\n",
    "        elif ty == 'tanh':\n",
    "            return (1-Z*Z)\n",
    "        elif ty == 'none':\n",
    "            return Z\n",
    "        else:# ty == 'relu':\n",
    "            return np.where(Z > 0, 1, 0)\n",
    "        \n",
    "    def __softmax(self,A):\n",
    "        expA = np.exp(A)\n",
    "        return expA / expA.sum(axis=1,keepdims=True)\n",
    "    \n",
    "    # Cross-entropy cost for softmax\n",
    "    def __cost(self,T,Y,ty):\n",
    "        if ty == 'ce':\n",
    "            return self.__cross_entropy(T,Y)\n",
    "        elif ty == 'mse':\n",
    "            return self.__mean_squared(T,Y)\n",
    "    \n",
    "    def __cross_entropy(self,T,Y):\n",
    "        tot = (-T * np.log(Y))\n",
    "        return tot.sum()\n",
    "    \n",
    "    def __mean_squared(self,T,Y):\n",
    "        tot = np.square(T - Y)\n",
    "        return tot.sum()\n",
    "    \n",
    "    def classification_rate(self,T):\n",
    "        Yhat = NeuralNetwork.Yhat\n",
    "        Yp = np.argmax(Yhat,axis=1)\n",
    "        print('Classification rate: ', np.mean(T == Yp))\n",
    "    \n",
    "    # Adds hidden layer with L nodes, d dropout\n",
    "    def add_layer(self,L,a0='sigmoid',a1='tanh',dropout=0):\n",
    "        self.M.append(L)\n",
    "        self.A.append(a0)\n",
    "        self.A.append(a1)\n",
    "        self.Dp.append(dropout)\n",
    "        \n",
    "    def __shuffle(self,X,Y):\n",
    "        assert len(X) == len(Y)\n",
    "        p = np.random.permutation(len(X))\n",
    "        return X[p],Y[p]\n",
    "    \n",
    "    def __init_rms_cache(self,M,K):\n",
    "        wCache = []\n",
    "        bCache = []\n",
    "        eps = 10e-8\n",
    "        decay = 0.99\n",
    "        for i in range(len(M)-1):\n",
    "            if i == (len(M)-2):\n",
    "                wCache.append(np.ones((M[i].shape[1],K)))\n",
    "                bCache.append(np.ones((K)))\n",
    "            else:\n",
    "                for j in range(4):\n",
    "                    wCache.append(np.ones((M[i].shape[2]+M[i+1].shape[1],M[i+1].shape[1])))\n",
    "                    bCache.append(np.ones((M[i+1].shape[1])))\n",
    "                    \n",
    "        return [wCache,bCache],eps,decay\n",
    "    \n",
    "    def __init_adam_cache(self,M,K):\n",
    "        wM, wV, bM, bV = [], [], [], []\n",
    "        eps = 10e-8\n",
    "        decay1, decay2 = 0.9, 0.999\n",
    "        for i in range(len(M)-1):\n",
    "            if i == (len(M)-2):\n",
    "                # hidden to output\n",
    "                wM.append(np.zeros((M[i].shape[1],K)))\n",
    "                wV.append(np.zeros((M[i].shape[1],K)))\n",
    "                bM.append(np.zeros((K)))\n",
    "                bV.append(np.zeros((K)))\n",
    "            else:\n",
    "                for j in range(4):\n",
    "                    wM.append(np.zeros((M[i].shape[2]+M[i+1].shape[1],M[i+1].shape[1])))\n",
    "                    wV.append(np.zeros((M[i].shape[2]+M[i+1].shape[1],M[i+1].shape[1])))\n",
    "                    bM.append(np.zeros((M[i+1].shape[1])))\n",
    "                    bV.append(np.zeros((M[i+1].shape[1])))\n",
    "        return [wM,wV,bM,bV],eps,decay1,decay2\n",
    "    \n",
    "    def __init_weights(self,M,K):\n",
    "        W = []\n",
    "        b = []\n",
    "        # Initialize weights\n",
    "        for i in range(len(M)-1):\n",
    "            if i == (len(M)-2):\n",
    "                #W_y\n",
    "                W.append(np.random.randn(M[i].shape[1],K) / np.sqrt(M[i].shape[1] + K))\n",
    "                b.append(np.random.randn(K) / np.sqrt(K))\n",
    "            else:\n",
    "                for j in range(4):\n",
    "                    # W_f,W_i,W_g,W_o\n",
    "                    W.append(np.random.randn(M[i].shape[2]+M[i+1].shape[1],M[i+1].shape[1]) / np.sqrt((M[i].shape[2]+M[i+1].shape[1]) + M[i+1].shape[1]))\n",
    "                    b.append(np.random.randn(M[i+1].shape[1]) / np.sqrt(M[i+1].shape[1]))\n",
    "                    \n",
    "        return W,b\n",
    "    \n",
    "    def __init_cache(self,M,K,optimizer):\n",
    "        # Initialize cache\n",
    "        w_cache = []\n",
    "        eps = 10e-8\n",
    "        decay = .9\n",
    "        decay1 = .9\n",
    "        if optimizer == 'rms':\n",
    "            w_cache,eps,decay = self.__init_rms_cache(M,K)\n",
    "        elif optimizer == 'adam':\n",
    "            w_cache,eps,decay,decay1 = self.__init_adam_cache(M,K)\n",
    "                    \n",
    "        return w_cache,eps,decay,decay1\n",
    "    \n",
    "    def __weights_rms(self,W,b,w_cache,d,l,decay,reg,eps):\n",
    "        wCache, bCache = w_cache[0], w_cache[1]\n",
    "        i = len(d) - 1\n",
    "        for j in range(len(W)-1,-1,-1):\n",
    "            W[j],wCache[j] = self.__weights_rms_W(W[j],wCache[j],d[i],l,decay,reg,eps)\n",
    "            i -= 1\n",
    "        for j in range(len(b)-1,-1,-1):\n",
    "            b[j],bCache[j] = self.__weights_rms_b(b[j],bCache[j],d[i],decay,reg,eps)\n",
    "            i -= 1\n",
    "        return W,b,[wCache,bCache]\n",
    "    \n",
    "    def __weights_rms_W(self,W,wCache,dw,l,decay,reg,eps):\n",
    "        wCache = (decay * wCache) + (1-decay) * np.square(dw)\n",
    "        wDenominator = np.sqrt(wCache) + eps\n",
    "        W += l * ((dw/wDenominator) - reg*W)\n",
    "        return W,wCache\n",
    "    \n",
    "    def __weights_rms_b(self,b,bCache,db,l):\n",
    "        bCache = (decay * bCache) + (1-decay) * np.square(db)\n",
    "        bDenominator = np.sqrt(bCache) + eps\n",
    "        b += l * ((db/bDenominator) - reg*b)\n",
    "        return b,bCache\n",
    "    \n",
    "    def __weights_adam(self,W,b,w_cache,d,l,decay,decay1,reg,eps):\n",
    "        wM,wV,bM,bV = w_cache[0], w_cache[1], w_cache[2], w_cache[3]\n",
    "        i = len(d) - 1\n",
    "        for j in range(len(b)-1,-1,-1):\n",
    "            b[j],bM[j],bV[j] = self.__weights_adam_b(b[j],bM[j],bV[j],d[i],l,decay1,reg,epochs,eps)\n",
    "            i -= 1\n",
    "        for j in range(len(W)-1,-1,-1):\n",
    "            W[j],wM[j],wV[j] = self.__weights_adam_W(W[j],wM[j],wV[j],d[i],l,decay,reg,epochs,eps)\n",
    "            i -= 1\n",
    "        \n",
    "        return W,b,[wM,wV,bM,bV]\n",
    "    \n",
    "    def __weights_adam_W(self,W,wM,wV,dw,l,decay,reg,epochs,eps):\n",
    "        wM = (decay * wM) + (1-decay) * dw\n",
    "        wV = (decay * wV) + (1-decay) * np.square(dw)\n",
    "        wMhat = wM/(1-decay**(epochs+1))\n",
    "        wVhat = wV/(1-decay**(epochs+1))\n",
    "        wDenom = np.sqrt(wVhat) + eps\n",
    "        W += l * ((wMhat/wDenom) - reg*W)\n",
    "        return W,wM,wV\n",
    "    \n",
    "    def __weights_adam_b(self,b,bM,bV,db,l,decay,reg,epochs,eps):\n",
    "        bM = (decay * bM) + (1-decay) * db\n",
    "        bV = (decay * bV) + (1-decay) * np.square(db)\n",
    "        bMhat = bM/(1-decay**(epochs+1))\n",
    "        bVhat = bV/(1-decay**(epochs+1))\n",
    "        bDenom = np.sqrt(bVhat) + eps\n",
    "        b += l * ((bMhat/bDenom) - reg*b)\n",
    "        return b,bM,bV\n",
    "    \n",
    "    def __clip_grad(self,g):\n",
    "        for param in g:\n",
    "            np.clip(param, -5, 5, out=param)\n",
    "        return g\n",
    "    \n",
    "    def __backprop(self,i,W,ht,yt,A):\n",
    "        h_t, c_t, f_t, i_t, g_t, o_t, z_t  = ht[0], ht[1], ht[2], ht[3], ht[4], ht[5], ht[6]\n",
    "        W_f, W_i, W_g, W_o, W_y = W[0], W[1], W[2], W[3], W[4]\n",
    "        dh_next, dc_next = np.zeros_like(h_t[i][-1]), np.zeros_like(c_t[i][-1])\n",
    "        T = h_t.shape[1] - 1\n",
    "        \n",
    "        for t in range(T-1,-1,-1):\n",
    "            # Get y\n",
    "            dv_t = (Y[i] - yt[i][t]).reshape(1,-1)\n",
    "            if self.lossType == 'mse': \n",
    "                dv_t = (2/N) * dv_t\n",
    "            dW_v = h_t[i][t].dot(dv_t)\n",
    "            db_v = dv_t.reshape(-1)\n",
    "            # hidden state\n",
    "            dh_t = W_y.dot(dv_t)\n",
    "            dh_t += dh_next\n",
    "            # output \n",
    "            do_t = dh_t * self.__actf(c_t[i][t], A[1])\n",
    "            da_o = do_t * self.__actf_dv(o_t[i][t], A[0])\n",
    "            dW_o = z_t[i][t].dot(da_o.T)\n",
    "            db_o = da_o.reshape(-1)\n",
    "            # cell state\n",
    "            dc_t = dh_t * o_t[i][t] * self.__actf_dv(c_t[i][t], A[1])\n",
    "            dc_t += dc_next\n",
    "            # g(cell) gate\n",
    "            dg_t = dc_t * i_t[i][t]\n",
    "            da_g = dg_t * self.__actf_dv(g_t[i][t], A[1])\n",
    "            dW_g = z_t[i][t].dot(da_g.T)\n",
    "            db_g = da_g.reshape(-1)\n",
    "            # input gate\n",
    "            di_t = dc_t * g_t[i][t]\n",
    "            da_i = di_t * self.__actf_dv(i_t[i][t], A[0])\n",
    "            dW_i = z_t[i][t].dot(da_i.T)\n",
    "            db_i = da_i.reshape(-1)\n",
    "            # forget gate\n",
    "            df_t = dc_t * c_t[i][t-1]\n",
    "            da_f = df_t * self.__actf_dv(f_t[i][t], A[0])\n",
    "            dW_f = z_t[i][t].dot(da_f.T)\n",
    "            db_f = da_f.reshape(-1)\n",
    "            # input\n",
    "            dz_t = W_f.dot(da_f) + W_i.dot(da_i) + W_o.dot(da_o) + W_g.dot(da_g)\n",
    "\n",
    "            dh_next = dz_t[1:]\n",
    "            dc_next = dc_t * f_t[i][t]\n",
    "            \n",
    "        derivArray = []\n",
    "        derivArray.extend([dW_f,dW_i,dW_g,dW_o,dW_v,db_f,db_i,db_g,db_o,db_v])\n",
    "            \n",
    "        return derivArray\n",
    "            \n",
    "    # Parameters(M:Layers,W:Weights,b:bias,A:activation function,D:Dropout)\n",
    "    def __forward(self,M,W,b,Y,A,Dp):\n",
    "        N, T, H, D = M[0].shape[0], M[0].shape[1], W[1].shape[1], M[0].shape[2]\n",
    "        Yp, yp = np.zeros_like(Y), np.zeros_like(Y)\n",
    "        ht_arr = []\n",
    "        gt_arr = np.zeros((N,T+1,H,1))\n",
    "        zt_arr,ht1_arr,ct_arr = np.zeros((N,T+1,H+D,1)),np.zeros((N,T+1,H,1)),np.zeros((N,T+1,H,1))\n",
    "        it_arr,ft_arr,ot_arr = np.zeros_like(gt_arr),np.zeros_like(gt_arr),np.zeros_like(gt_arr)\n",
    "        ht_arr.extend([ht1_arr,ct_arr,ft_arr,it_arr,gt_arr,ot_arr,zt_arr])\n",
    "\n",
    "        yt = np.zeros((N,T,1))\n",
    "        X = M[0]\n",
    "        dropout = Dp[0]\n",
    "\n",
    "        for i in range(N):\n",
    "            ht_prev = M[1][i].T\n",
    "            ct_prev = np.zeros_like(M[1][i]).T\n",
    "            for t in range(T):\n",
    "                z_t = np.row_stack((X[i][t],ht_prev.T)).T\n",
    "                # W_f = W[0], W_i = W[1], W_g = W[2], W_o = W[3], Why = W[4]\n",
    "                ft = self.__actf(z_t.dot(W[0]) + b[0], A[0])\n",
    "                it = self.__actf(z_t.dot(W[1]) + b[1], A[0])\n",
    "                gt = self.__actf(z_t.dot(W[2]) + b[2], A[1])\n",
    "                ot = self.__actf(z_t.dot(W[3]) + b[3], A[0])\n",
    "                \n",
    "                # Dropout\n",
    "                if (dropout > 0):\n",
    "                    for x in [ft,it,gt,ot]:\n",
    "                        for j in range(x.shape[1]):\n",
    "                            if random.random() < dropout:\n",
    "                                x[0][j] = 0\n",
    "                \n",
    "                ct = ft*ct_prev + it*gt\n",
    "                ht = ot * self.__actf(ct, A[1])\n",
    "                yp[i] = self.__actf(ht.dot(W[4]) + b[4], A[2])\n",
    "                ht_arr[0][i][t], ht_arr[1][i][t], ht_arr[2][i][t] = ht.T, ct.T, ft.T\n",
    "                ht_arr[3][i][t], ht_arr[4][i][t], ht_arr[5][i][t] = it.T, gt.T, ot.T\n",
    "                ht_arr[6][i][t] = z_t.T\n",
    "                yt[i][t] = yp[i]\n",
    "                ct_prev = ct\n",
    "                ht_prev = ht\n",
    "\n",
    "            Yp[i] = yp[i]\n",
    "        return Yp,M,ht_arr,yt\n",
    "    \n",
    "    def fit(self,X,Y,seq_len=10,epochs=20000,batchSize=0,learnR=10e-6,reg=0,lossType='mse',optimizer='none'):\n",
    "        W = self.W\n",
    "        b = self.b\n",
    "        M = self.M\n",
    "        A = self.A\n",
    "        Dp = self.Dp\n",
    "        self.optimizer = optimizer\n",
    "        self.lossType = lossType\n",
    "        \n",
    "        N, T, D, K = X.shape[0], X.shape[1], X.shape[2], Y.shape[1]\n",
    "        \n",
    "        # Regulate batch size\n",
    "        batchSize = min(batchSize, N)\n",
    "        batchSize = max(batchSize, 1)\n",
    "        \n",
    "        # Initialize layers for M\n",
    "        for i in range(len(M)):\n",
    "            M[i] = np.random.randn(batchSize,M[i],D)\n",
    "        #M[0] = np.random.randn(batchSize,M[0])\n",
    "            \n",
    "        # Add input and layer to M\n",
    "        M.insert(0,X)\n",
    "        M.append(np.random.randn(batchSize,K))\n",
    "        A.append('none')\n",
    "        l = learnR\n",
    "        \n",
    "            \n",
    "        # Set weights\n",
    "        W,b = self.__init_weights(M,K)\n",
    "        self.W, self.b = W, b\n",
    "        if optimizer != 'none':\n",
    "            w_cache,eps,decay,decay1 = self.__init_cache(M,K,optimizer)\n",
    "        \n",
    "        costs = []\n",
    "        for e in range(epochs):\n",
    "            iterations = N // batchSize\n",
    "            for i in range(iterations):\n",
    "                start = i * batchSize\n",
    "                end = (i+1) * batchSize\n",
    "                batchX, batchY = X[start:end],Y[start:end]\n",
    "                del M[0]\n",
    "                M.insert(0,batchX)\n",
    "                Yp,Z,ht,yt = self.__forward(M,W,b,batchY,A,Dp)\n",
    "\n",
    "                #Z = M\n",
    "                cost = self.__cost(batchY,Yp,lossType)\n",
    "                costs.append(cost)\n",
    "\n",
    "                # Adjust weights\n",
    "\n",
    "                for i in range(N-1,-1,-1):\n",
    "                    d = self.__backprop(i,W,ht,yt,A)\n",
    "                    d = self.__clip_grad(d)\n",
    "                        \n",
    "                    # Optimizers\n",
    "                    if optimizer == 'none':\n",
    "                        for x in range(len(W)):\n",
    "                            W[x] += l * (d[x] - reg*W[x])\n",
    "                            b[x] += l * (d[x+5] - reg*b[x])\n",
    "                    elif optimizer == 'rms':\n",
    "                        W,b,w_cache = self.__weights_rms(W,b,w_cache,d,l,decay,reg,eps)\n",
    "                    elif optimizer == 'adam':\n",
    "                        W,b,w_cache = self.__weights_adam(W,b,w_cache,d,l,decay,decay1,reg,eps)\n",
    "                        \n",
    "            if e % 500 == 0:\n",
    "                print(e,costs[-1])\n",
    "                plt.plot(Yp)\n",
    "        self.W = W\n",
    "        self.b = b\n",
    "        self.M = M\n",
    "        self.Yhat = Yp\n",
    "        self.costs = costs\n",
    "    \n",
    "    def predict(self,X):\n",
    "        W = self.W\n",
    "        b = self.b\n",
    "        M = self.M\n",
    "        A = self.A\n",
    "        Dp = 0\n",
    "        del M[0]\n",
    "        M.insert(0,X)\n",
    "        Yp,Z = self.__forward(M,W,b,A,Dp)\n",
    "        NeuralNetwork.Yhat = Yp\n",
    "        return Yp\n",
    "    \n",
    "    def plot_cost(self):\n",
    "        costs = self.costs\n",
    "        plt.plot(costs)\n",
    "        plt.show()\n",
    "    \n",
    "    def reset(self):\n",
    "        self.W = []\n",
    "        self.b = []\n",
    "        self.M = []\n",
    "        self.A = []\n",
    "        self.Dp = []\n",
    "        self.lossType = 'mse'\n",
    "        self.optimizer = 'none'\n",
    "        self.Yhat = []\n",
    "        self.costs = []"
   ]
  },
  {
   "cell_type": "code",
   "execution_count": 126,
   "id": "edcd0b4a-c114-466b-bb4a-09ccf1ecfc9a",
   "metadata": {},
   "outputs": [],
   "source": [
    "series = np.sin(0.1*np.arange(200))"
   ]
  },
  {
   "cell_type": "code",
   "execution_count": 127,
   "id": "ceffba9f-2d75-4591-bd40-ab1cf0e254d5",
   "metadata": {},
   "outputs": [],
   "source": [
    "T = 10\n",
    "X = []\n",
    "Y = []\n",
    "for t in range(len(series) - T):\n",
    "    x = series[t:t+T]\n",
    "    X.append(x)\n",
    "    y = series[t+T]\n",
    "    Y.append(y)\n",
    "\n",
    "X = np.array(X).reshape(-1,T,1)\n",
    "Y = np.array(Y).reshape(len(Y),-1)\n",
    "N = len(X)"
   ]
  },
  {
   "cell_type": "code",
   "execution_count": 128,
   "id": "53e3cddc-8a25-4569-a608-277471a89e34",
   "metadata": {},
   "outputs": [],
   "source": [
    "model = RNN()"
   ]
  },
  {
   "cell_type": "code",
   "execution_count": 129,
   "id": "962e2cbd-19fb-4731-967a-8c90c73135c3",
   "metadata": {},
   "outputs": [],
   "source": [
    "model.add_layer(15,'sigmoid','tanh',.2)"
   ]
  },
  {
   "cell_type": "code",
   "execution_count": 130,
   "id": "a4a02d70-09c2-42b8-8720-8b61b171ff98",
   "metadata": {
    "tags": []
   },
   "outputs": [
    {
     "name": "stdout",
     "output_type": "stream",
     "text": [
      "0 267.1702500277722\n"
     ]
    },
    {
     "ename": "KeyboardInterrupt",
     "evalue": "",
     "output_type": "error",
     "traceback": [
      "\u001b[1;31m---------------------------------------------------------------------------\u001b[0m",
      "\u001b[1;31mKeyboardInterrupt\u001b[0m                         Traceback (most recent call last)",
      "\u001b[1;32m~\\AppData\\Local\\Temp/ipykernel_43700/3885954939.py\u001b[0m in \u001b[0;36m<module>\u001b[1;34m\u001b[0m\n\u001b[0;32m      8\u001b[0m \u001b[0mreg\u001b[0m \u001b[1;33m=\u001b[0m \u001b[1;36m0\u001b[0m\u001b[1;33m\u001b[0m\u001b[1;33m\u001b[0m\u001b[0m\n\u001b[0;32m      9\u001b[0m \u001b[0moptimizer\u001b[0m \u001b[1;33m=\u001b[0m \u001b[1;34m'adam'\u001b[0m\u001b[1;33m\u001b[0m\u001b[1;33m\u001b[0m\u001b[0m\n\u001b[1;32m---> 10\u001b[1;33m \u001b[0mmodel\u001b[0m\u001b[1;33m.\u001b[0m\u001b[0mfit\u001b[0m\u001b[1;33m(\u001b[0m\u001b[0mX\u001b[0m\u001b[1;33m,\u001b[0m\u001b[0mY\u001b[0m\u001b[1;33m,\u001b[0m\u001b[0mseq_len\u001b[0m\u001b[1;33m,\u001b[0m\u001b[1;36m10000\u001b[0m\u001b[1;33m,\u001b[0m\u001b[0mbatchSize\u001b[0m\u001b[1;33m,\u001b[0m\u001b[0mlearnR\u001b[0m\u001b[1;33m,\u001b[0m\u001b[0mlossType\u001b[0m\u001b[1;33m=\u001b[0m\u001b[0mlossType\u001b[0m\u001b[1;33m,\u001b[0m\u001b[0moptimizer\u001b[0m\u001b[1;33m=\u001b[0m\u001b[0moptimizer\u001b[0m\u001b[1;33m)\u001b[0m\u001b[1;33m\u001b[0m\u001b[1;33m\u001b[0m\u001b[0m\n\u001b[0m",
      "\u001b[1;32m~\\AppData\\Local\\Temp/ipykernel_43700/407335498.py\u001b[0m in \u001b[0;36mfit\u001b[1;34m(self, X, Y, seq_len, epochs, batchSize, learnR, reg, lossType, optimizer)\u001b[0m\n\u001b[0;32m    356\u001b[0m \u001b[1;33m\u001b[0m\u001b[0m\n\u001b[0;32m    357\u001b[0m                 \u001b[1;32mfor\u001b[0m \u001b[0mi\u001b[0m \u001b[1;32min\u001b[0m \u001b[0mrange\u001b[0m\u001b[1;33m(\u001b[0m\u001b[0mN\u001b[0m\u001b[1;33m-\u001b[0m\u001b[1;36m1\u001b[0m\u001b[1;33m,\u001b[0m\u001b[1;33m-\u001b[0m\u001b[1;36m1\u001b[0m\u001b[1;33m,\u001b[0m\u001b[1;33m-\u001b[0m\u001b[1;36m1\u001b[0m\u001b[1;33m)\u001b[0m\u001b[1;33m:\u001b[0m\u001b[1;33m\u001b[0m\u001b[1;33m\u001b[0m\u001b[0m\n\u001b[1;32m--> 358\u001b[1;33m                     \u001b[0md\u001b[0m \u001b[1;33m=\u001b[0m \u001b[0mself\u001b[0m\u001b[1;33m.\u001b[0m\u001b[0m__backprop\u001b[0m\u001b[1;33m(\u001b[0m\u001b[0mi\u001b[0m\u001b[1;33m,\u001b[0m\u001b[0mW\u001b[0m\u001b[1;33m,\u001b[0m\u001b[0mht\u001b[0m\u001b[1;33m,\u001b[0m\u001b[0myt\u001b[0m\u001b[1;33m,\u001b[0m\u001b[0mA\u001b[0m\u001b[1;33m)\u001b[0m\u001b[1;33m\u001b[0m\u001b[1;33m\u001b[0m\u001b[0m\n\u001b[0m\u001b[0;32m    359\u001b[0m                     \u001b[0md\u001b[0m \u001b[1;33m=\u001b[0m \u001b[0mself\u001b[0m\u001b[1;33m.\u001b[0m\u001b[0m__clip_grad\u001b[0m\u001b[1;33m(\u001b[0m\u001b[0md\u001b[0m\u001b[1;33m)\u001b[0m\u001b[1;33m\u001b[0m\u001b[1;33m\u001b[0m\u001b[0m\n\u001b[0;32m    360\u001b[0m \u001b[1;33m\u001b[0m\u001b[0m\n",
      "\u001b[1;32m~\\AppData\\Local\\Temp/ipykernel_43700/407335498.py\u001b[0m in \u001b[0;36m__backprop\u001b[1;34m(self, i, W, ht, yt, A)\u001b[0m\n\u001b[0;32m    250\u001b[0m             \u001b[0mdb_f\u001b[0m \u001b[1;33m=\u001b[0m \u001b[0mda_f\u001b[0m\u001b[1;33m.\u001b[0m\u001b[0mreshape\u001b[0m\u001b[1;33m(\u001b[0m\u001b[1;33m-\u001b[0m\u001b[1;36m1\u001b[0m\u001b[1;33m)\u001b[0m\u001b[1;33m\u001b[0m\u001b[1;33m\u001b[0m\u001b[0m\n\u001b[0;32m    251\u001b[0m             \u001b[1;31m# input\u001b[0m\u001b[1;33m\u001b[0m\u001b[1;33m\u001b[0m\u001b[1;33m\u001b[0m\u001b[0m\n\u001b[1;32m--> 252\u001b[1;33m             \u001b[0mdz_t\u001b[0m \u001b[1;33m=\u001b[0m \u001b[0mW_f\u001b[0m\u001b[1;33m.\u001b[0m\u001b[0mdot\u001b[0m\u001b[1;33m(\u001b[0m\u001b[0mda_f\u001b[0m\u001b[1;33m)\u001b[0m \u001b[1;33m+\u001b[0m \u001b[0mW_i\u001b[0m\u001b[1;33m.\u001b[0m\u001b[0mdot\u001b[0m\u001b[1;33m(\u001b[0m\u001b[0mda_i\u001b[0m\u001b[1;33m)\u001b[0m \u001b[1;33m+\u001b[0m \u001b[0mW_o\u001b[0m\u001b[1;33m.\u001b[0m\u001b[0mdot\u001b[0m\u001b[1;33m(\u001b[0m\u001b[0mda_o\u001b[0m\u001b[1;33m)\u001b[0m \u001b[1;33m+\u001b[0m \u001b[0mW_g\u001b[0m\u001b[1;33m.\u001b[0m\u001b[0mdot\u001b[0m\u001b[1;33m(\u001b[0m\u001b[0mda_g\u001b[0m\u001b[1;33m)\u001b[0m\u001b[1;33m\u001b[0m\u001b[1;33m\u001b[0m\u001b[0m\n\u001b[0m\u001b[0;32m    253\u001b[0m \u001b[1;33m\u001b[0m\u001b[0m\n\u001b[0;32m    254\u001b[0m             \u001b[0mdh_next\u001b[0m \u001b[1;33m=\u001b[0m \u001b[0mdz_t\u001b[0m\u001b[1;33m[\u001b[0m\u001b[1;36m1\u001b[0m\u001b[1;33m:\u001b[0m\u001b[1;33m]\u001b[0m\u001b[1;33m\u001b[0m\u001b[1;33m\u001b[0m\u001b[0m\n",
      "\u001b[1;31mKeyboardInterrupt\u001b[0m: "
     ]
    },
    {
     "data": {
      "image/png": "[encoded data removed]",
      "text/plain": [
       "<Figure size 432x288 with 1 Axes>"
      ]
     },
     "metadata": {
      "needs_background": "light"
     },
     "output_type": "display_data"
    }
   ],
   "source": [
    "# (X, Y, loss type, # iterations, batch size, learning rate, regulization)\n",
    "# Loss type('ce': cross-entropy, 'sce': sparse cross-entropy)\n",
    "lossType = 'mse'\n",
    "seq_len = 10\n",
    "epochs = 20000\n",
    "batchSize = N\n",
    "learnR = 10e-4\n",
    "reg = 0\n",
    "optimizer = 'adam'\n",
    "model.fit(X,Y,seq_len,10000,batchSize,learnR,lossType=lossType,optimizer=optimizer)"
   ]
  },
  {
   "cell_type": "code",
   "execution_count": 76,
   "id": "304b7fb8-bf50-43f1-9662-d041193f19e9",
   "metadata": {},
   "outputs": [
    {
     "data": {
      "text/plain": [
       "(15,)"
      ]
     },
     "execution_count": 76,
     "metadata": {},
     "output_type": "execute_result"
    }
   ],
   "source": [
    "b[0].shape"
   ]
  },
  {
   "cell_type": "code",
   "execution_count": null,
   "id": "989a2e3b-3bd7-4fc8-9ac7-00b1e914d971",
   "metadata": {},
   "outputs": [],
   "source": [
    "M = model.M\n",
    "W = model.W"
   ]
  },
  {
   "cell_type": "code",
   "execution_count": 218,
   "id": "4fdc3ff2-8c26-4e06-a62e-30f21b5048e0",
   "metadata": {},
   "outputs": [],
   "source": [
    "yp = model.Yhat"
   ]
  },
  {
   "cell_type": "code",
   "execution_count": 219,
   "id": "aae7bdb3-1e6c-4867-bbce-e9f7dad0fb7a",
   "metadata": {
    "tags": []
   },
   "outputs": [
    {
     "data": {
      "text/plain": [
       "[<matplotlib.lines.Line2D at 0x162d0e380d0>]"
      ]
     },
     "execution_count": 219,
     "metadata": {},
     "output_type": "execute_result"
    },
    {
     "data": {
      "image/png": "[encoded data removed]",
      "text/plain": [
       "<Figure size 432x288 with 1 Axes>"
      ]
     },
     "metadata": {
      "needs_background": "light"
     },
     "output_type": "display_data"
    }
   ],
   "source": [
    "plt.plot(Y)"
   ]
  },
  {
   "cell_type": "code",
   "execution_count": 220,
   "id": "1f2c3678-1f97-46e2-a840-26acb525dcff",
   "metadata": {
    "tags": []
   },
   "outputs": [
    {
     "data": {
      "text/plain": [
       "[<matplotlib.lines.Line2D at 0x162d0e7b820>]"
      ]
     },
     "execution_count": 220,
     "metadata": {},
     "output_type": "execute_result"
    },
    {
     "data": {
      "image/png": "[encoded data removed]",
      "text/plain": [
       "<Figure size 432x288 with 1 Axes>"
      ]
     },
     "metadata": {
      "needs_background": "light"
     },
     "output_type": "display_data"
    }
   ],
   "source": [
    "plt.plot(yp)"
   ]
  },
  {
   "cell_type": "code",
   "execution_count": 221,
   "id": "82f2ea27-12fb-4a21-a4e6-92c7c9788bbd",
   "metadata": {
    "tags": []
   },
   "outputs": [
    {
     "data": {
      "text/plain": [
       "[<matplotlib.lines.Line2D at 0x162d0ed0190>]"
      ]
     },
     "execution_count": 221,
     "metadata": {},
     "output_type": "execute_result"
    },
    {
     "data": {
      "image/png": "[encoded data removed]",
      "text/plain": [
       "<Figure size 432x288 with 1 Axes>"
      ]
     },
     "metadata": {
      "needs_background": "light"
     },
     "output_type": "display_data"
    }
   ],
   "source": [
    "plt.plot(Y,yp)"
   ]
  },
  {
   "cell_type": "markdown",
   "id": "4e17df64-6399-4424-852e-d523b6585c55",
   "metadata": {},
   "source": [
    "## Individual methods / testing"
   ]
  },
  {
   "cell_type": "code",
   "execution_count": 2,
   "id": "83661aee-e86d-4598-9ee0-72325a5fb5cb",
   "metadata": {},
   "outputs": [],
   "source": [
    "def forward(M,W,b,Y):\n",
    "    N, T, H, D = M[0].shape[0], M[0].shape[1], W[1].shape[1], M[0].shape[2]\n",
    "    Yp, yp = np.zeros_like(Y), np.zeros_like(Y)\n",
    "    ht_arr = []\n",
    "    gt_arr = np.zeros((N,T+1,H,1))\n",
    "    zt_arr,ht1_arr,ct_arr = np.zeros((N,T+1,H+D,1)),np.zeros((N,T+1,H,1)),np.zeros((N,T+1,H,1))\n",
    "    it_arr,ft_arr,ot_arr = np.zeros_like(gt_arr),np.zeros_like(gt_arr),np.zeros_like(gt_arr)\n",
    "    ht_arr.extend([ht1_arr,ct_arr,ft_arr,it_arr,gt_arr,ot_arr,zt_arr])\n",
    "    \n",
    "    yt = np.zeros((N,T,1))\n",
    "    X = M[0]\n",
    "\n",
    "    for i in range(N):\n",
    "        ht_prev = M[1][i].T\n",
    "        ct_prev = np.zeros_like(M[1][i]).T\n",
    "        for t in range(T):\n",
    "            z_t = np.row_stack((X[i][t],ht_prev.T)).T\n",
    "            # W_f = W[0], W_i = W[1], W_g = W[2], W_o = W[3], Why = W[4]\n",
    "            ft = tanh(z_t.dot(W[0]) + b[0])\n",
    "            it = tanh(z_t.dot(W[1]) + b[1])\n",
    "            gt = tanh(z_t.dot(W[2]) + b[2])\n",
    "            ot = tanh(z_t.dot(W[3]) + b[3])\n",
    "            ct = ft*ct_prev + it*gt\n",
    "            ht = ot * tanh(ct)\n",
    "            yp[i] = (ht.dot(W[4]) + b[4])\n",
    "            ht_arr[0][i][t] = ht.T\n",
    "            ht_arr[1][i][t] = ct.T\n",
    "            ht_arr[2][i][t] = ft.T\n",
    "            ht_arr[3][i][t] = it.T\n",
    "            ht_arr[4][i][t] = gt.T\n",
    "            ht_arr[5][i][t] = ot.T\n",
    "            ht_arr[6][i][t] = z_t.T\n",
    "            yt[i][t] = yp[i]\n",
    "            ct_prev = ct\n",
    "            ht_prev = ht\n",
    "\n",
    "        Yp[i] = yp[i]\n",
    "    return Yp,M,ht_arr,yt"
   ]
  },
  {
   "cell_type": "code",
   "execution_count": 60,
   "id": "3252b356-43e4-48c5-ba10-eac19705cc75",
   "metadata": {
    "jupyter": {
     "source_hidden": true
    },
    "tags": []
   },
   "outputs": [],
   "source": [
    "def forward0(M,W,b,Y):\n",
    "    N, T, H = M[0].shape[0], M[0].shape[1], W[1].shape[0]\n",
    "    Yp, yp = np.zeros_like(Y), np.zeros_like(Y)\n",
    "    ht_arr = []\n",
    "    for i in range(1,len(M)-1):\n",
    "        H = W[i].shape[1]\n",
    "        ht_arr.append(np.zeros((N,T+1,H,1)))\n",
    "    yt = np.zeros((N,T,1))\n",
    "    X = M[0]\n",
    "\n",
    "    for i in range(N):\n",
    "        w = 0\n",
    "        for j in range(len(M)-2):\n",
    "            \n",
    "            hh_prev = M[j].reshape(N,-1,1)\n",
    "            ht_prev = M[j+1][i]\n",
    "            # Weight counter \n",
    "            for t in range(T):\n",
    "                ht = tanh((hh_prev[i][t].dot(W[w]) + ht_prev.dot(W[w+1]) + b[j]))\n",
    "                M[j+1][i] = ht\n",
    "                ht_prev = ht\n",
    "                ht_arr[j][i][t] = ht.reshape(-1,1)\n",
    "            w += 2\n",
    "\n",
    "\n",
    "        yp[i] = (ht.dot(W[-1]) + b[-1])\n",
    "        yt[i][t] = yp[i].reshape(-1,1)\n",
    "\n",
    "\n",
    "        Yp[i] = yp[i]\n",
    "    return Yp,M,ht_arr,yt"
   ]
  },
  {
   "cell_type": "code",
   "execution_count": 3,
   "id": "37e88d33-dda1-4a36-9d0f-467dce3af48c",
   "metadata": {},
   "outputs": [],
   "source": [
    "def mse(T,Y):\n",
    "    tot = np.square(T - Y)\n",
    "    return tot.sum()"
   ]
  },
  {
   "cell_type": "code",
   "execution_count": 4,
   "id": "166f9d8f-e977-4493-8451-dd7c46aaf907",
   "metadata": {},
   "outputs": [],
   "source": [
    "def sigmoid(Z):\n",
    "    return 1 / (1 + np.exp(-Z))"
   ]
  },
  {
   "cell_type": "code",
   "execution_count": 5,
   "id": "ebd10bfc-7abd-484f-83e1-8041c8a45b2b",
   "metadata": {},
   "outputs": [],
   "source": [
    "def tanh(Z):\n",
    "    return np.tanh(Z)"
   ]
  },
  {
   "cell_type": "code",
   "execution_count": 6,
   "id": "cb8a3037-4381-47e2-9f56-b510877a8bd8",
   "metadata": {},
   "outputs": [],
   "source": [
    "def actf_dv(Z):\n",
    "    return Z*(1-Z)"
   ]
  },
  {
   "cell_type": "code",
   "execution_count": 7,
   "id": "80cdfdc4-be04-4652-b93d-eee1310e1113",
   "metadata": {},
   "outputs": [],
   "source": [
    "def softmax(A):\n",
    "    expA = np.exp(A)\n",
    "    return expA / expA.sum(axis=1,keepdims=True)"
   ]
  },
  {
   "cell_type": "code",
   "execution_count": 8,
   "id": "faace7dc-25e0-482b-abc6-46ff3753b2d3",
   "metadata": {},
   "outputs": [],
   "source": [
    "series = np.sin(0.1*np.arange(200))"
   ]
  },
  {
   "cell_type": "code",
   "execution_count": 9,
   "id": "c60d2dc3-a84a-4d44-b75a-01885e86d341",
   "metadata": {},
   "outputs": [],
   "source": [
    "T = 10\n",
    "H = 15\n",
    "D = 1\n",
    "X = []\n",
    "Y = []\n",
    "for t in range(len(series) - T):\n",
    "    x = series[t:t+T]\n",
    "    X.append(x)\n",
    "    y = series[t+T]\n",
    "    Y.append(y)\n",
    "\n",
    "X = np.array(X).reshape(-1,T,1)\n",
    "Y = np.array(Y).reshape(len(Y),-1)\n",
    "N = len(X)"
   ]
  },
  {
   "cell_type": "code",
   "execution_count": 10,
   "id": "482461f3-4f54-47a8-9331-2cc1950e0f8e",
   "metadata": {},
   "outputs": [],
   "source": [
    "# Initialize layers for M\n",
    "M = []\n",
    "W = []\n",
    "b = []\n",
    "M.append(np.zeros((N,H,D)))\n",
    "#M.append(np.zeros((N,20)))\n",
    "\n",
    "# Add input and layer to M\n",
    "K = 1\n",
    "M.insert(0,X)\n",
    "M.append(np.random.randn(N,K))"
   ]
  },
  {
   "cell_type": "code",
   "execution_count": 11,
   "id": "b7035faa-a658-4e43-9847-cca67da68738",
   "metadata": {},
   "outputs": [],
   "source": [
    "# Set weights\n",
    "W = []\n",
    "b = []\n",
    "for i in range(len(M)-1):\n",
    "    if i == (len(M)-2):\n",
    "        \n",
    "        W.append(np.random.randn(M[i].shape[1],K) / np.sqrt(M[i].shape[1] + K))\n",
    "        b.append(np.random.randn(K) / np.sqrt(K))\n",
    "    else:\n",
    "        for j in range(4):\n",
    "            # Whf,Whi,Who,Whc\n",
    "            W.append(np.random.randn(M[i].shape[2]+M[i+1].shape[1],M[i+1].shape[1]) / np.sqrt((M[i].shape[2]+M[i+1].shape[1]) + M[i+1].shape[1]))\n",
    "            b.append(np.random.randn(M[i+1].shape[1]) / np.sqrt(M[i+1].shape[1]))"
   ]
  },
  {
   "cell_type": "code",
   "execution_count": null,
   "id": "3f233548-d89e-49e4-888c-305f228423fb",
   "metadata": {},
   "outputs": [],
   "source": [
    "M1 = M[1].reshape(-1,15,1)"
   ]
  },
  {
   "cell_type": "code",
   "execution_count": 66,
   "id": "36f9ca89-9e58-4503-8580-23691586aff5",
   "metadata": {},
   "outputs": [
    {
     "data": {
      "text/plain": [
       "array([0.7208181])"
      ]
     },
     "execution_count": 66,
     "metadata": {},
     "output_type": "execute_result"
    }
   ],
   "source": [
    "M[1][0].dot(W[2]) + b[1]"
   ]
  },
  {
   "cell_type": "code",
   "execution_count": 65,
   "id": "67bfb906-852a-47e4-9d97-db97ef009fdf",
   "metadata": {},
   "outputs": [
    {
     "data": {
      "text/plain": [
       "array([[0.7208181]])"
      ]
     },
     "execution_count": 65,
     "metadata": {},
     "output_type": "execute_result"
    }
   ],
   "source": [
    "(M1[0].T.dot(W[2]) + b[1])"
   ]
  },
  {
   "cell_type": "code",
   "execution_count": 12,
   "id": "bc883310-0b67-41d7-917a-e931d62861be",
   "metadata": {
    "tags": []
   },
   "outputs": [],
   "source": [
    "Yp,M,ht,yt = forward(M,W,b,Y)"
   ]
  },
  {
   "cell_type": "code",
   "execution_count": 14,
   "id": "73f4c4a5-954e-40ea-a839-2a64d236f80c",
   "metadata": {},
   "outputs": [],
   "source": [
    "zt = np.row_stack((M[0][0][0],M[1][0]))\n",
    "htprev = M[1][0].T\n",
    "z_t = np.row_stack((M[0][0][0],htprev.T)).T"
   ]
  },
  {
   "cell_type": "code",
   "execution_count": 117,
   "id": "47b09aa0-3dd0-4626-8f19-e6f7eec0e441",
   "metadata": {},
   "outputs": [],
   "source": [
    "#old\n",
    "h = tanh(M[0][0][0].dot(W[0][0].reshape(1,15)) + M[1][0].reshape(15).dot(W[1][1:]) + b[0])\n",
    "y0 = h.dot(W[-1]) + b[-1]\n",
    "#new\n",
    "h1 = tanh(zt.T.dot(W[0]) + b[0])\n",
    "y1 = h1.dot(W[-1]) + b[-1]"
   ]
  },
  {
   "cell_type": "code",
   "execution_count": 42,
   "id": "3a17cefa-dd54-4467-960a-9f5030e33664",
   "metadata": {},
   "outputs": [],
   "source": [
    "ct_prev = np.zeros_like(M[1][0]).T\n",
    "ft = tanh(z_t.dot(W[0]) + b[0])\n",
    "it = tanh(z_t.dot(W[1]) + b[1])\n",
    "gt = tanh(z_t.dot(W[2]) + b[2])\n",
    "ot = tanh(z_t.dot(W[3]) + b[3])\n",
    "c_t = ft*ct_prev + it*gt\n",
    "h_t = ot * tanh(c_t)\n",
    "y = (h_t.dot(W[4]) + b[4])"
   ]
  },
  {
   "cell_type": "code",
   "execution_count": 16,
   "id": "f8dc0b00-a5b5-49a6-a88b-62f5f5a72718",
   "metadata": {},
   "outputs": [],
   "source": [
    "dr = np.ones_like(ft)"
   ]
  },
  {
   "cell_type": "code",
   "execution_count": 29,
   "id": "efbf0700-9d54-418b-b612-5edcb6d7b9ca",
   "metadata": {},
   "outputs": [
    {
     "data": {
      "text/plain": [
       "array([[0., 0., 1., 1., 0., 0., 1., 1., 1., 1., 1., 1., 1., 1., 1.]])"
      ]
     },
     "execution_count": 29,
     "metadata": {},
     "output_type": "execute_result"
    }
   ],
   "source": [
    "for i in range(dr.shape[1]):\n",
    "    if random.random() < .2:\n",
    "        dr[0][i] = 0\n",
    "dr"
   ]
  },
  {
   "cell_type": "code",
   "execution_count": 43,
   "id": "84d148f4-3caa-43ac-8519-9df957900c0c",
   "metadata": {},
   "outputs": [],
   "source": [
    "for x in [ft,it,gt,ot]:\n",
    "    for i in range(x.shape[1]):\n",
    "        if random.random() < .5:\n",
    "            x[0][i] = 0"
   ]
  },
  {
   "cell_type": "code",
   "execution_count": 44,
   "id": "de3f82e3-84b3-4d6a-a37d-92e57761ab0a",
   "metadata": {},
   "outputs": [
    {
     "data": {
      "text/plain": [
       "array([[-0.26811279,  0.        ,  0.        , -0.07158144, -0.01684234,\n",
       "         0.        ,  0.277413  ,  0.        , -0.23312974,  0.57309405,\n",
       "         0.08259224, -0.24968637,  0.        ,  0.39892337,  0.        ]])"
      ]
     },
     "execution_count": 44,
     "metadata": {},
     "output_type": "execute_result"
    }
   ],
   "source": [
    "ft"
   ]
  },
  {
   "cell_type": "code",
   "execution_count": 170,
   "id": "efe225e4-e92d-4d9e-a83d-67dfd4f8a37a",
   "metadata": {},
   "outputs": [],
   "source": [
    "h_t, c_t, f_t, i_t, g_t, o_t, z_t  = ht[0], ht[1], ht[2], ht[3], ht[4], ht[5], ht[6]\n",
    "W_f, W_i, W_g, W_o, W_y = W[0], W[1], W[2], W[3], W[4]\n",
    "\n",
    "for i in range(N-1,-1,-1):\n",
    "    dh_next, dc_next = np.zeros_like(h_t[i][-1]), np.zeros_like(c_t[i][-1])\n",
    "    for t in range(T-1,-1,-1):\n",
    "        # Get y\n",
    "        dv_t = (Y[i] - yt[i][t]).reshape(1,-1)\n",
    "        dW_v = h_t[i][t].dot(dv_t)\n",
    "        db_v = dv_t.reshape(-1)\n",
    "        # hidden state\n",
    "        dh_t = W_y.dot(dv_t)\n",
    "        dh_t += dh_next\n",
    "        # output \n",
    "        do_t = dh_t * tanh(c_t[i][t])\n",
    "        da_o = do_t * actf_dv(o_t[i][t])\n",
    "        dW_o = z_t[i][t].dot(da_o.T)\n",
    "        db_o = da_o.reshape(-1)\n",
    "        # cell state\n",
    "        dc_t = dh_t * o_t[i][t] * actf_dv(c_t[i][t])\n",
    "        dc_t += dc_next\n",
    "        # g(cell) gate\n",
    "        dg_t = dc_t * i_t[i][t]\n",
    "        da_g = dg_t * actf_dv(g_t[i][t])\n",
    "        dW_g = z_t[i][t].dot(da_g.T)\n",
    "        db_g = da_g.reshape(-1)\n",
    "        # input gate\n",
    "        di_t = dc_t * g_t[i][t]\n",
    "        da_i = di_t * actf_dv(i_t[i][t])\n",
    "        dW_i = z_t[i][t].dot(da_i.T)\n",
    "        db_i = da_i.reshape(-1)\n",
    "        # forget gate\n",
    "        df_t = dc_t * c_t[i][t-1]\n",
    "        da_f = df_t * actf_dv(f_t[i][t])\n",
    "        dW_f = z_t[i][t].dot(da_f.T)\n",
    "        db_f = da_f.reshape(-1)\n",
    "        # input\n",
    "        dz_t = W_f.dot(da_f) + W_i.dot(da_i) + W_o.dot(da_o) + W_g.dot(da_g)\n",
    "\n",
    "        dh_next = dz_t[1:]\n",
    "        dc_next = dc_t * f_t[i][t]\n",
    "    derivArray = []\n",
    "    derivArray.extend([dW_v,dW_o,dW_g,dW_i,dW_f,db_v,db_o,db_g,db_i,db_f])"
   ]
  },
  {
   "cell_type": "code",
   "execution_count": 178,
   "id": "ba752bbc-aab1-46bf-9325-ea4632b06332",
   "metadata": {},
   "outputs": [
    {
     "data": {
      "text/plain": [
       "(15, 1)"
      ]
     },
     "execution_count": 178,
     "metadata": {},
     "output_type": "execute_result"
    }
   ],
   "source": [
    "h_t[0][0].shape"
   ]
  },
  {
   "cell_type": "code",
   "execution_count": 191,
   "id": "097f65ac-c788-4c9e-bc83-20ed8a45e17a",
   "metadata": {},
   "outputs": [
    {
     "data": {
      "text/plain": [
       "(16, 15)"
      ]
     },
     "execution_count": 191,
     "metadata": {},
     "output_type": "execute_result"
    }
   ],
   "source": [
    "d[1].shape"
   ]
  },
  {
   "cell_type": "code",
   "execution_count": 22,
   "id": "62a54d0c-1e06-4a24-80bb-be23a03d07f1",
   "metadata": {},
   "outputs": [],
   "source": [
    "i -= 1\n",
    "t -= 1\n",
    "zt = (Y[i] - yt[i][t]).reshape(1,-1)\n",
    "dwo = (2/N) * ht[i][t].dot(zt)\n",
    "db1 = zt.sum()\n",
    "zt = (W[2].dot(zt) + dnext)*actf_dv(ht[i][t])\n",
    "W[2] += dwo\n",
    "b[1] += db1\n",
    "dxh = (2/N) * M[0][i][t].dot(zt.T)\n",
    "dhh = (2/N) * ht[i][t-1].dot(zt.T)\n",
    "db0 = zt.sum()\n",
    "W[1] += dhh\n",
    "W[0] += dxh\n",
    "b[0] += db0\n",
    "dnext = W[1].dot(zt)"
   ]
  },
  {
   "cell_type": "code",
   "execution_count": 31,
   "id": "56c9bdc0-0b47-451c-8ee5-0d92274e1747",
   "metadata": {},
   "outputs": [],
   "source": [
    "for i in range(N-1,-1,-1):\n",
    "    for t in range(T-1,-1,-1):\n",
    "        #print(i, t, yt[i][t])\n",
    "        zt = (Y[i] - yt[i][t]).reshape(1,-1)\n",
    "        dwo = (2/N) * ht[i][t].dot(zt)\n",
    "        db1 = zt.sum()\n",
    "        zt = (W[2].dot(zt) + dnext)*actf_dv(ht[i][t])\n",
    "        W[2] += dwo\n",
    "        b[1] += db1\n",
    "        dxh = (2/N) * M[0][i][t].dot(zt.T)\n",
    "        dhh = (2/N) * ht[i][t-1].dot(zt.T)\n",
    "        db0 = zt.sum()\n",
    "        W[1] += dhh\n",
    "        W[0] += dxh\n",
    "        b[0] += db0\n",
    "        dnext = W[1].dot(zt)"
   ]
  },
  {
   "cell_type": "code",
   "execution_count": 163,
   "id": "30b27ca8-25ad-4468-a617-9f40bfa61c58",
   "metadata": {},
   "outputs": [],
   "source": [
    "tempa = np.random.randn(15,1)\n",
    "tempb = np.random.randn(15,1)\n",
    "tempc = np.random.randn(1,1)"
   ]
  },
  {
   "cell_type": "code",
   "execution_count": 159,
   "id": "1db98173-5989-4260-87e4-625eff4fb53c",
   "metadata": {},
   "outputs": [
    {
     "data": {
      "text/plain": [
       "array([[-2.0296615]])"
      ]
     },
     "execution_count": 159,
     "metadata": {},
     "output_type": "execute_result"
    }
   ],
   "source": [
    "tempa.T.dot(tempb)"
   ]
  },
  {
   "cell_type": "code",
   "execution_count": 160,
   "id": "e27ea3f3-941c-4d35-8600-d205f072ef5b",
   "metadata": {},
   "outputs": [
    {
     "data": {
      "text/plain": [
       "array([[-2.0296615]])"
      ]
     },
     "execution_count": 160,
     "metadata": {},
     "output_type": "execute_result"
    }
   ],
   "source": [
    "tempb.T.dot(tempa)"
   ]
  },
  {
   "cell_type": "code",
   "execution_count": 21,
   "id": "52b2d972-d87c-4c16-a79d-c01a18f31c85",
   "metadata": {},
   "outputs": [],
   "source": [
    "w2 = np.vstack([b1,W[2]])\n",
    "w1 = np.vstack([b0,W[1]])\n",
    "z2 = np.vstack([np.ones((len(Z[2][0]))),Z[2]])\n",
    "z1 = np.vstack([np.ones((len(Z[1][0]))),Z[1]])"
   ]
  },
  {
   "cell_type": "code",
   "execution_count": 30,
   "id": "6270d39d-17fa-4a8f-959c-5d9cb1d19b64",
   "metadata": {},
   "outputs": [],
   "source": [
    "Y1 = np.vstack([np.ones(1),Y])"
   ]
  },
  {
   "cell_type": "code",
   "execution_count": 33,
   "id": "b986ef7c-48ae-47eb-90a4-98c1e0ad66d1",
   "metadata": {},
   "outputs": [],
   "source": [
    "dw = np.linalg.solve(np.dot(z2.T, z2), np.dot(z2.T, Y1))"
   ]
  },
  {
   "cell_type": "code",
   "execution_count": 15,
   "id": "357882b1-89a8-42c8-9057-162b3401a8d9",
   "metadata": {},
   "outputs": [],
   "source": [
    "dw1 = np.linalg.solve(np.dot(Yp.T, Yp), np.dot(Yp.T, Y))"
   ]
  },
  {
   "cell_type": "code",
   "execution_count": null,
   "id": "bcede96d-413c-4946-b4fc-c37d312de427",
   "metadata": {},
   "outputs": [],
   "source": []
  }
 ],
 "metadata": {
  "kernelspec": {
   "display_name": "Python 3 (ipykernel)",
   "language": "python",
   "name": "python3"
  },
  "language_info": {
   "codemirror_mode": {
    "name": "ipython",
    "version": 3
   },
   "file_extension": ".py",
   "mimetype": "text/x-python",
   "name": "python",
   "nbconvert_exporter": "python",
   "pygments_lexer": "ipython3",
   "version": "3.8.8"
  }
 },
 "nbformat": 4,
 "nbformat_minor": 5
}
